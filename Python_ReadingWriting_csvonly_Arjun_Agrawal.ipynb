{
  "cells": [
    {
      "cell_type": "markdown",
      "metadata": {
        "id": "view-in-github",
        "colab_type": "text"
      },
      "source": [
        "<a href=\"https://colab.research.google.com/github/Arjun343/CIS235Python/blob/main/Python_ReadingWriting_csvonly_Arjun_Agrawal.ipynb\" target=\"_parent\"><img src=\"https://colab.research.google.com/assets/colab-badge.svg\" alt=\"Open In Colab\"/></a>"
      ]
    },
    {
      "cell_type": "markdown",
      "metadata": {
        "id": "Bms9LEht5X0q"
      },
      "source": [
        "**READ ME FIRST:**\n",
        "\n",
        "Use the code blocks below to answer each quiz question. Use the code blocks below to answer each quiz question. IMPORTANT: Be sure that the text \"# Question 1:\", \"# Question 2:\", and so forth remains in each of your code cells. That is how the auto-grader searches for your responses\n",
        "\n",
        "Only print the output required for each question. Otherwise, the auto-grader may misinterpret your results. See the next code cell below as an an example (leave that code cell in this file):"
      ]
    },
    {
      "cell_type": "code",
      "execution_count": null,
      "metadata": {
        "id": "S_WqeUT75X0t",
        "outputId": "4a4c025f-3929-444a-937d-4babbec2b50f"
      },
      "outputs": [
        {
          "name": "stdout",
          "output_type": "stream",
          "text": [
            "16\n"
          ]
        }
      ],
      "source": [
        "# Question 0: (example)\n",
        "\n",
        "# Create two variables to store the numbers 7 and 9\n",
        "# Add those two variables together and print them\n",
        "\n",
        "x = 7\n",
        "y = 9\n",
        "print(x + y)"
      ]
    },
    {
      "cell_type": "markdown",
      "metadata": {
        "id": "xlExVc-S5X0v"
      },
      "source": [
        "Download the dataset: top_100_books.csv\n",
        "\n",
        "This is a real dataset representing the top 100 best-selling books available on Amazon.com\n",
        "\n",
        "Import this csv into a DataFrame; do not adjust any additional settings"
      ]
    },
    {
      "cell_type": "code",
      "execution_count": null,
      "metadata": {
        "id": "3IxrXvdPEY4V"
      },
      "outputs": [],
      "source": [
        "# Question 1:\n",
        "\n",
        "import pandas as pd\n",
        "\n",
        "# Specify the file path to the CSV file\n",
        "file_path = r'C:\\Users\\arjun\\OneDrive\\Documents\\Arjun\\ASU\\CIS235\\top_100_books-2020-Arjun_Agrawal.csv'\n",
        "\n",
        "# Read the CSV file into a DataFrame\n",
        "df = pd.read_csv(file_path, index_col=None, na_values=['NA'])\n"
      ]
    },
    {
      "cell_type": "markdown",
      "metadata": {
        "id": "-s3T5dUc5X0v"
      },
      "source": [
        "Sometimes imported data can be messy. In this case, there are several columns that are completed empty with no headers either. Remove each of those columns with blank cells. Print out the first five records of the resulting DataFrame."
      ]
    },
    {
      "cell_type": "code",
      "execution_count": null,
      "metadata": {
        "id": "m0gzieYxEY4Z",
        "outputId": "05bcd4b6-654a-4191-ffbc-896d403991a8"
      },
      "outputs": [
        {
          "name": "stdout",
          "output_type": "stream",
          "text": [
            "   rank                 title          author  rating  reviews       type  \\\n",
            "0     1              Becoming  Michelle Obama     4.9    13347  Hardcover   \n",
            "1     2  Girl, Wash Your Face   Rachel Hollis     4.6    10521  Hardcover   \n",
            "2     3      The Wonky Donkey     Craig Smith     4.7     5503  Paperback   \n",
            "3     4         Fire and Fury   Michael Wolff     4.2     9931  Hardcover   \n",
            "4     5                  Fear    Bob Woodward     4.5     3220  Hardcover   \n",
            "\n",
            "   price  \n",
            "0  17.95  \n",
            "1  13.63  \n",
            "2   4.99  \n",
            "3  15.57  \n",
            "4  15.47  \n"
          ]
        }
      ],
      "source": [
        "# Question 2:\n",
        "\n",
        "# Remove columns with all empty cells (NaN)\n",
        "df_cleaned = df.dropna(axis=1, how='all')\n",
        "\n",
        "# Print the first five records of the cleaned DataFrame\n",
        "print(df_cleaned.head())\n",
        "\n"
      ]
    },
    {
      "cell_type": "markdown",
      "metadata": {
        "id": "KnXW57Ac5X0w"
      },
      "source": [
        "We gave out copies of \"Man's Search for Meaning\" free to the first 10 people to sign up for a new Amazon account. Now that the promotion is done, we need to update the price from 0 to 9.99. Update the price now. It is okay to manually/hardcode the row index number for this row.\n",
        "\n",
        "Print out the last 14 records of the DataFrame"
      ]
    },
    {
      "cell_type": "code",
      "execution_count": null,
      "metadata": {
        "id": "_ceKJYfBEY4Z",
        "outputId": "9db2ec7f-4c40-4fcb-ad62-8179a34d7ed0"
      },
      "outputs": [
        {
          "name": "stdout",
          "output_type": "stream",
          "text": [
            "Index(['rank', 'title', 'author', 'rating', 'reviews', 'type', 'price'], dtype='object')\n",
            "    rank                           title               author  rating  \\\n",
            "85    87             Whiskey in a Teacup    Reese Witherspoon     4.7   \n",
            "86    88        Man's Search for Meaning     Viktor E. Frankl     4.7   \n",
            "87    89                 The Great Alone       Kristin Hannah     4.6   \n",
            "88    90        The Total Money Makeover          Dave Ramsey     4.7   \n",
            "89    91                        Cravings       Chrissy Teigen     4.7   \n",
            "90    92             The Handmaid's Tale      Margaret Atwood     4.1   \n",
            "91    93       The Gifts of Imperfection           Bren Brown     4.6   \n",
            "92    94                The Great Gatsby  F. Scott Fitzgerald     4.2   \n",
            "93    95        The Body Keeps the Score                  NaN     4.8   \n",
            "94    96               Gmorning, Gnight!   Lin-Manuel Miranda     4.7   \n",
            "95    97               Rich Dad Poor Dad   Robert T. Kiyosaki     4.5   \n",
            "96    98                   Make Your Bed   William H. McRaven     4.7   \n",
            "97    99  Harry Potter Paperback Box Set        J. K. Rowling     4.7   \n",
            "98   100  Xanathar's Guide to Everything     Wizards RPG Team     4.5   \n",
            "\n",
            "    reviews       type  price  \n",
            "85      616  Hardcover  19.49  \n",
            "86     4959  Paperback   0.00  \n",
            "87     6902  Hardcover  15.83  \n",
            "88     5772  Hardcover  14.60  \n",
            "89      332  Hardcover  18.25  \n",
            "90    14663  Paperback   9.49  \n",
            "91     4057  Paperback   8.97  \n",
            "92     7527  Paperback  11.25  \n",
            "93     2005  Paperback  10.80  \n",
            "94      285  Hardcover  15.49  \n",
            "95     8611  Paperback   6.45  \n",
            "96     2582  Hardcover  11.00  \n",
            "97     7742  Paperback  54.99  \n",
            "98      743  Hardcover  31.56  \n"
          ]
        }
      ],
      "source": [
        "# Question 3:\n",
        "print(df_cleaned.columns)\n",
        "# Manually set the price for \"Man's Search for Meaning\" to 9.99\n",
        "df.loc[df_cleaned['title'] == \"Man's Search for Meaning\", 'Price'] = 9.99\n",
        "\n",
        "# Print out the last 14 records of the DataFrame\n",
        "print(df_cleaned.tail(14))\n"
      ]
    },
    {
      "cell_type": "markdown",
      "metadata": {
        "id": "FDVVxaeh5X0x"
      },
      "source": [
        "A common task in data analytics is to convert rare group values to more common values for more valid results. Iterate through the records and convert \"Board Book\" to Hardcover and \"Mass Market Paperback\" to \"Paperback\".\n",
        "\n",
        "You will learn an easier way to accomplish this task in other chapters. However, for the purpose of this question, accomplish this through an iteration.\n",
        "\n",
        "Keep track of the number of rows that needed to be updated. Print out this dynamic number."
      ]
    },
    {
      "cell_type": "code",
      "execution_count": null,
      "metadata": {
        "id": "MoFjzvSvEY4b",
        "outputId": "3ee24a4d-bb0c-4719-9b47-2f9c1d08096e"
      },
      "outputs": [
        {
          "name": "stdout",
          "output_type": "stream",
          "text": [
            "Number of rows updated: 0\n"
          ]
        }
      ],
      "source": [
        "# Question 4:\n",
        "# Initialize a variable to keep track of the number of rows updated\n",
        "updated_rows = 0\n",
        "\n",
        "# Iterate through the DataFrame\n",
        "for index, row in df_cleaned.iterrows():\n",
        "    if row['type'] == 'Board Book':\n",
        "        df_cleaned.at[index, 'type'] = 'Hardcover'\n",
        "        updated_rows += 1\n",
        "    elif row['type'] == 'Mass Market Paperback':\n",
        "        df_cleaned.at[index, 'type'] = 'Paperback'\n",
        "        updated_rows += 1\n",
        "\n",
        "# Print the number of rows updated\n",
        "print(f\"Number of rows updated: {updated_rows}\")\n"
      ]
    },
    {
      "cell_type": "markdown",
      "metadata": {
        "id": "XDcZKgRb5X0x"
      },
      "source": [
        "Sort the DataFrame in descending order by the “reviews” field\n",
        "\n",
        "Print the first 5 records"
      ]
    },
    {
      "cell_type": "code",
      "execution_count": null,
      "metadata": {
        "id": "OX3oZgsrEY4c",
        "outputId": "08e895d2-8e1f-438d-8daa-0e9cdff3940b"
      },
      "outputs": [
        {
          "name": "stdout",
          "output_type": "stream",
          "text": [
            "    rank                                  title           author  rating  \\\n",
            "59    60                  Beneath a Scarlet Sky    Mark Sullivan     4.7   \n",
            "47    48                       Ready Player One     Ernest Cline     4.6   \n",
            "69    70                Where the Crawdads Sing      Delia Owens     4.8   \n",
            "90    92                    The Handmaid's Tale  Margaret Atwood     4.1   \n",
            "81    83  The Life-Changing Magic of Tidying Up      Marie Kondo     4.4   \n",
            "\n",
            "    reviews       type  price  \n",
            "59    25842  Paperback  11.99  \n",
            "47    18942  Paperback  12.00  \n",
            "69    15153  Hardcover  15.60  \n",
            "90    14663  Paperback   9.49  \n",
            "81    14421  Hardcover   9.69  \n"
          ]
        }
      ],
      "source": [
        "# Question 5:\n",
        "# Sort the DataFrame in descending order by the \"reviews\" field\n",
        "df_sorted = df_cleaned.sort_values(by='reviews', ascending=False)\n",
        "\n",
        "# Print the first 5 records of the sorted DataFrame\n",
        "print(df_sorted.head(5))\n"
      ]
    },
    {
      "cell_type": "markdown",
      "metadata": {
        "id": "Gpl1hSPa5X0y"
      },
      "source": [
        "Write your updated DataFrame to a new CSV file called “{Your_Name}_top_100_books_cleaned.csv”."
      ]
    },
    {
      "cell_type": "code",
      "execution_count": null,
      "metadata": {
        "id": "b0v2_DYj5X0y"
      },
      "outputs": [],
      "source": [
        "# Question 6:\n",
        "# Specify the file name with your name\n",
        "output_file = \"Arjun_Agrawal_top_100_books_cleaned.csv\"\n",
        "\n",
        "# Write the updated DataFrame to the CSV file\n",
        "df_sorted.to_csv(output_file, index=False)\n"
      ]
    },
    {
      "cell_type": "code",
      "execution_count": null,
      "metadata": {
        "id": "vEEzez8V5X0y"
      },
      "outputs": [],
      "source": []
    }
  ],
  "metadata": {
    "colab": {
      "provenance": [],
      "include_colab_link": true
    },
    "kernelspec": {
      "display_name": "Python 3.9.1 64-bit",
      "language": "python",
      "name": "python3"
    },
    "language_info": {
      "codemirror_mode": {
        "name": "ipython",
        "version": 3
      },
      "file_extension": ".py",
      "mimetype": "text/x-python",
      "name": "python",
      "nbconvert_exporter": "python",
      "pygments_lexer": "ipython3",
      "version": "3.10.6"
    },
    "vscode": {
      "interpreter": {
        "hash": "11938c6bc6919ae2720b4d5011047913343b08a43b18698fd82dedb0d4417594"
      }
    }
  },
  "nbformat": 4,
  "nbformat_minor": 0
}