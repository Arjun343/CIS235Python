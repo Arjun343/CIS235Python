{
  "cells": [
    {
      "cell_type": "markdown",
      "metadata": {
        "id": "view-in-github",
        "colab_type": "text"
      },
      "source": [
        "<a href=\"https://colab.research.google.com/github/Arjun343/CIS235Python/blob/main/Python_Collections_Arjun_Agrawal.ipynb\" target=\"_parent\"><img src=\"https://colab.research.google.com/assets/colab-badge.svg\" alt=\"Open In Colab\"/></a>"
      ]
    },
    {
      "cell_type": "markdown",
      "metadata": {
        "id": "JA5zbaVOaNhS"
      },
      "source": [
        "**READ ME FIRST:**\n",
        "\n",
        "Use the code blocks below to answer each quiz question. Use the code blocks below to answer each quiz question. IMPORTANT: Be sure that the text \"# Question 1:\", \"# Question 2:\", and so forth remains in each of your code cells. That is how the auto-grader searches for your responses\n",
        "\n",
        "Only print the output required for each question. Otherwise, the auto-grader may misinterpret your results. See the next code cell below as an an example (leave that code cell in this file):"
      ]
    },
    {
      "cell_type": "code",
      "execution_count": null,
      "metadata": {
        "id": "XKnmfp-afT9K",
        "outputId": "26e53336-3250-4a4f-fc5b-13785a3c02cc"
      },
      "outputs": [
        {
          "name": "stdout",
          "output_type": "stream",
          "text": [
            "16\n"
          ]
        }
      ],
      "source": [
        "# Question 0: (example)\n",
        "\n",
        "# Create two variables to store the numbers 7 and 9\n",
        "# Add those two variables together and print them\n",
        "\n",
        "x = 7\n",
        "y = 9\n",
        "print(x + y)"
      ]
    },
    {
      "cell_type": "markdown",
      "metadata": {
        "id": "yA6PB2IHaNhW"
      },
      "source": [
        "**Background**\n",
        "\n",
        "You are a human resources (HR) manager in charge of keeping track of employees and their pay rates. To begin, you have created a dictionary to keep track of current employees and their pay. However, your company recently hired several employees who need to be added to this dictionary.\n",
        "\n",
        "You also need to keep track of former, terminated employees. However, you only need to keep track of their names and have, therefore, done so in a python list. If someone is fired they need to be removed from the dictionary and added in the first position of the list, NOT the last.\n",
        "\n",
        "**Tasks**\n",
        "\n",
        "Perform the following tasks in order:\n",
        "\n",
        "* Create the dictionary using the following pay rates: Aubrey = 21.05, Sam = 20.95, Lucia = 15.75, Tyler = 15.75\n",
        "* Create the terminated employees list including the initial names: Benjamin, Sandy\n",
        "* Ask your user if they want to add, remove, or view the current employees.\n",
        "* Depending on what they say add, remove, or show the list and dictionary.\n",
        "* If they are adding, ask how much the new employee is paid and add that to the dictionary with their name.\n",
        "* Finally, print out both the employees dictionary and the terminated list at the end if they edit either of them; but not if they simply viewed them\n",
        "* Place all of this in the code cell for Question 1 in the template provided.\n",
        "* Run this code cell and terminate Sam. Leave the output from that run and save and submit your .ipynb file\n",
        "\n",
        "**Exceptions**\n",
        "\n",
        "Unless your instructor directs otherwise, you do not need to keep track of changes made. For example, if you add a new employee, you do not need to keep track of that new employee across repeated runs of this code cell. You also do not need to validate inputs."
      ]
    },
    {
      "cell_type": "code",
      "execution_count": 1,
      "metadata": {
        "id": "25Uz7hlAgLMT",
        "colab": {
          "base_uri": "https://localhost:8080/"
        },
        "outputId": "9e43b818-a853-41a4-a733-c69ceeeaa553"
      },
      "outputs": [
        {
          "output_type": "stream",
          "name": "stdout",
          "text": [
            "Do you want to add, remove, or view the current employees? add\n",
            "Enter the name of the new employee: arjun\n",
            "Enter the pay rate of the new employee: 20\n",
            "\n",
            "Updated Current Employees:\n",
            "Aubrey: 21.05\n",
            "Sam: 20.95\n",
            "Lucia: 15.75\n",
            "Tyler: 15.75\n",
            "arjun: 20.0\n",
            "Updated Terminated Employees:\n",
            "Benjamin\n",
            "Sandy\n"
          ]
        }
      ],
      "source": [
        "# Question 1:\n",
        "\n",
        "# Create the initial dictionary of current employees and their pay rates\n",
        "employees_dict = {\n",
        "    \"Aubrey\": 21.05,\n",
        "    \"Sam\": 20.95,\n",
        "    \"Lucia\": 15.75,\n",
        "    \"Tyler\": 15.75\n",
        "}\n",
        "\n",
        "# Create the list of terminated employees\n",
        "terminated_employees = [\"Benjamin\", \"Sandy\"]\n",
        "\n",
        "# Ask the user for their action choice\n",
        "action = input(\"Do you want to add, remove, or view the current employees? \")\n",
        "\n",
        "# Check the user's choice and perform the corresponding action\n",
        "if action == \"add\":\n",
        "    # Ask for the new employee's name and pay rate\n",
        "    new_employee_name = input(\"Enter the name of the new employee: \")\n",
        "    new_employee_pay_rate = float(input(\"Enter the pay rate of the new employee: \"))\n",
        "\n",
        "    # Add the new employee to the dictionary\n",
        "    employees_dict[new_employee_name] = new_employee_pay_rate\n",
        "\n",
        "elif action == \"remove\":\n",
        "    # Ask for the name of the terminated employee to be removed\n",
        "    terminated_employee_name = input(\"Enter the name of the terminated employee: \")\n",
        "\n",
        "    # Check if the employee is in the dictionary\n",
        "    if terminated_employee_name in employees_dict:\n",
        "        # Remove the employee from the dictionary and add to the beginning of the terminated list\n",
        "        del employees_dict[terminated_employee_name]\n",
        "        terminated_employees.insert(0, terminated_employee_name)\n",
        "\n",
        "else:\n",
        "    # If the user chooses to view, simply print the dictionary and the terminated list\n",
        "    print(\"Current Employees:\")\n",
        "    for name, pay_rate in employees_dict.items():\n",
        "        print(f\"{name}: {pay_rate}\")\n",
        "\n",
        "    print(\"Terminated Employees:\")\n",
        "    for name in terminated_employees:\n",
        "        print(name)\n",
        "\n",
        "# Print the updated dictionary and terminated list if any changes were made\n",
        "if action in [\"add\", \"remove\"]:\n",
        "    print(\"\\nUpdated Current Employees:\")\n",
        "    for name, pay_rate in employees_dict.items():\n",
        "        print(f\"{name}: {pay_rate}\")\n",
        "\n",
        "    print(\"Updated Terminated Employees:\")\n",
        "    for name in terminated_employees:\n",
        "        print(name)\n",
        "\n",
        "\n"
      ]
    },
    {
      "cell_type": "code",
      "execution_count": null,
      "metadata": {
        "id": "Gr1TvymdaNhX"
      },
      "outputs": [],
      "source": []
    }
  ],
  "metadata": {
    "colab": {
      "provenance": [],
      "include_colab_link": true
    },
    "kernelspec": {
      "display_name": "Python 3.9.1 64-bit",
      "language": "python",
      "name": "python3"
    },
    "language_info": {
      "codemirror_mode": {
        "name": "ipython",
        "version": 3
      },
      "file_extension": ".py",
      "mimetype": "text/x-python",
      "name": "python",
      "nbconvert_exporter": "python",
      "pygments_lexer": "ipython3",
      "version": "3.9.1"
    },
    "vscode": {
      "interpreter": {
        "hash": "11938c6bc6919ae2720b4d5011047913343b08a43b18698fd82dedb0d4417594"
      }
    }
  },
  "nbformat": 4,
  "nbformat_minor": 0
}