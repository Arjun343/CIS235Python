{
  "cells": [
    {
      "cell_type": "markdown",
      "metadata": {
        "id": "view-in-github",
        "colab_type": "text"
      },
      "source": [
        "<a href=\"https://colab.research.google.com/github/Arjun343/CIS235Python/blob/main/Python_Iterations_Arjun_Agrawal.ipynb\" target=\"_parent\"><img src=\"https://colab.research.google.com/assets/colab-badge.svg\" alt=\"Open In Colab\"/></a>"
      ]
    },
    {
      "cell_type": "markdown",
      "metadata": {
        "id": "DhJ0FePF64TO"
      },
      "source": [
        "**READ ME FIRST:**\n",
        "\n",
        "Use the code blocks below to answer each quiz question. Use the code blocks below to answer each quiz question. IMPORTANT: Be sure that the text \"# Question 1:\", \"# Question 2:\", and so forth remains in each of your code cells. That is how the auto-grader searches for your responses\n",
        "\n",
        "Only print the output required for each question. Otherwise, the auto-grader may misinterpret your results. See the next code cell below as an an example (leave that code cell in this file):"
      ]
    },
    {
      "cell_type": "code",
      "execution_count": null,
      "metadata": {
        "colab": {
          "base_uri": "https://localhost:8080/"
        },
        "id": "XKnmfp-afT9K",
        "outputId": "78f49b3d-6dd5-40cc-8ba9-4341f487e0f5"
      },
      "outputs": [
        {
          "name": "stdout",
          "output_type": "stream",
          "text": [
            "16\n"
          ]
        }
      ],
      "source": [
        "# Question 0: (example)\n",
        "\n",
        "# Create two variables to store the numbers 7 and 9\n",
        "# Add those two variables together and print them\n",
        "\n",
        "x = 7\n",
        "y = 9\n",
        "print(x + y)"
      ]
    },
    {
      "cell_type": "markdown",
      "metadata": {
        "id": "zBWq5bID64TT"
      },
      "source": [
        "Create a list using the following artists names: 'Weird Al', 'Bruno Mars', 'Ricky Martin', 'HP Boyz', 'James Blunt', 'Ne-Yo', 'Paul McCartney', 'Little River Band'\n",
        "\n",
        "Sort it from Z-A. Output the resulting list"
      ]
    },
    {
      "cell_type": "code",
      "execution_count": 1,
      "metadata": {
        "id": "25Uz7hlAgLMT",
        "colab": {
          "base_uri": "https://localhost:8080/"
        },
        "outputId": "82b34cdb-381e-4619-afa3-673bc67becf1"
      },
      "outputs": [
        {
          "output_type": "stream",
          "name": "stdout",
          "text": [
            "Weird Al\n",
            "Ricky Martin\n",
            "Paul McCartney\n",
            "Ne-Yo\n",
            "Little River Band\n",
            "James Blunt\n",
            "HP Boyz\n",
            "Bruno Mars\n"
          ]
        }
      ],
      "source": [
        "# Question 1:\n",
        "\n",
        "artists = ['Weird Al', 'Bruno Mars', 'Ricky Martin', 'HP Boyz', 'James Blunt', 'Ne-Yo', 'Paul McCartney', 'Little River Band']\n",
        "\n",
        "# Sort the list in reverse order (Z-A)\n",
        "sorted_artists = sorted(artists, reverse=True)\n",
        "\n",
        "# Print the resulting list\n",
        "for artist in sorted_artists:\n",
        "    print(artist)"
      ]
    },
    {
      "cell_type": "markdown",
      "metadata": {
        "id": "XeDW_iab64TU"
      },
      "source": [
        "Add 'Juice Wrld' in the 3rd position of the list (do not remove any of the the current list items). Output the resulting list"
      ]
    },
    {
      "cell_type": "code",
      "execution_count": 2,
      "metadata": {
        "id": "4hr_ixFcjPiX",
        "colab": {
          "base_uri": "https://localhost:8080/"
        },
        "outputId": "dc3b66f9-f031-4329-8e27-a05a5102eb4c"
      },
      "outputs": [
        {
          "output_type": "stream",
          "name": "stdout",
          "text": [
            "Weird Al\n",
            "Ricky Martin\n",
            "Juice Wrld\n",
            "Paul McCartney\n",
            "Ne-Yo\n",
            "Little River Band\n",
            "James Blunt\n",
            "HP Boyz\n",
            "Bruno Mars\n"
          ]
        }
      ],
      "source": [
        "# Question 2:\n",
        "\n",
        "# Insert 'Juice Wrld' at the 3rd position (index 2)\n",
        "sorted_artists.insert(2, 'Juice Wrld')\n",
        "\n",
        "# Print the resulting list\n",
        "for artist in sorted_artists:\n",
        "    print(artist)"
      ]
    },
    {
      "cell_type": "markdown",
      "metadata": {
        "id": "vdvzVs9-64TV"
      },
      "source": [
        "Make a dictionary that has the artist name as the key and the number of plays at the value. Accomplish this task by iterating through the artist list (from question 2) to populate the dictionary with the play counts you see below.\n",
        "\n",
        "Hint: Using the plays information below, create a list of plays where the order of plays matches the order of the artists in the artist list. Then, iterate through the artist list and add each artist (key) / play count (value) to a new dictionary one-at-a-time\n",
        "\n",
        "Output the resulting dictionary by looping through it a print out each key and value in the format below (minus the bullet points):\n",
        "\n",
        "* Weird Al = 1234821 plays\n",
        "* Ricky Martin = 600000 plays\n",
        "* Juice Wrld = 38765432 plays\n",
        "* Paul McCartney = 98879838 plays\n",
        "* Ne-Yo = 20000 plays\n",
        "* Little River Band = 100 plays\n",
        "* James Blunt = 974545 plays\n",
        "* HP Boyz = 45000 plays\n",
        "* Bruno Mars = 85279 plays"
      ]
    },
    {
      "cell_type": "code",
      "execution_count": 15,
      "metadata": {
        "id": "kbCQCpxzjj-t",
        "colab": {
          "base_uri": "https://localhost:8080/"
        },
        "outputId": "7559e1c3-38a0-4421-feb6-d768bc8ebf04"
      },
      "outputs": [
        {
          "output_type": "stream",
          "name": "stdout",
          "text": [
            "Weird Al = 1234821 plays\n",
            "Ricky Martin = 600000 plays\n",
            "Juice Wrld = 38765432 plays\n",
            "Paul McCartney = 98879838 plays\n",
            "Ne-Yo = 20000 plays\n",
            "Little River Band = 100 plays\n",
            "James Blunt = 974545 plays\n",
            "HP Boyz = 45000 plays\n",
            "Bruno Mars = 85279 plays\n"
          ]
        }
      ],
      "source": [
        "# Question 3:\n",
        "\n",
        "# List of play counts in the same order as the artists\n",
        "play_counts = [1234821, 600000, 38765432, 98879838, 20000, 100, 974545, 45000, 85279]\n",
        "\n",
        "# Create a dictionary with artist names as keys and play counts as values\n",
        "artist_play_counts = {}\n",
        "\n",
        "for i in range(len(sorted_artists)):\n",
        "    artist = sorted_artists[i]\n",
        "    play_count = play_counts[i]\n",
        "    artist_play_counts[artist] = play_count\n",
        "\n",
        "# Output the resulting dictionary\n",
        "for artist, plays in artist_play_counts.items():\n",
        "    print(f\"{artist} = {plays} plays\")"
      ]
    },
    {
      "cell_type": "markdown",
      "metadata": {
        "id": "FpHY4KDr64TV"
      },
      "source": [
        "Due to technical errors this month all artists lost count of 100 plays.\n",
        "Loop through the artist dictionary (from question 3) and add 100 to the count of plays for all artists.\n",
        "\n",
        "Print the dictionary in any format that includes all keys and values"
      ]
    },
    {
      "cell_type": "code",
      "execution_count": 9,
      "metadata": {
        "id": "0jCj9N4_m6ov",
        "colab": {
          "base_uri": "https://localhost:8080/"
        },
        "outputId": "b5b41595-b558-48f5-8123-d7d0ab2e6e54"
      },
      "outputs": [
        {
          "output_type": "stream",
          "name": "stdout",
          "text": [
            "Weird Al = 1234921 plays\n",
            "Ricky Martin = 600100 plays\n",
            "Juice Wrld = 38765532 plays\n",
            "Paul McCartney = 98879938 plays\n",
            "Ne-Yo = 20100 plays\n",
            "Little River Band = 200 plays\n",
            "James Blunt = 974645 plays\n",
            "HP Boyz = 45100 plays\n",
            "Bruno Mars = 85379 plays\n"
          ]
        }
      ],
      "source": [
        "# Question 4:\n",
        "\n",
        "# Artist play counts dictionary (from question 3)\n",
        "artist_play_counts = {\n",
        "    'Weird Al': 1234821,\n",
        "    'Ricky Martin': 600000,\n",
        "    'Juice Wrld': 38765432,\n",
        "    'Paul McCartney': 98879838,\n",
        "    'Ne-Yo': 20000,\n",
        "    'Little River Band': 100,\n",
        "    'James Blunt': 974545,\n",
        "    'HP Boyz': 45000,\n",
        "    'Bruno Mars': 85279\n",
        "}\n",
        "\n",
        "# Add 100 plays to the count for each artist\n",
        "for artist in artist_play_counts:\n",
        "    artist_play_counts[artist] += 100\n",
        "\n",
        "# Print the updated dictionary\n",
        "for artist, plays in artist_play_counts.items():\n",
        "    print(f\"{artist} = {plays} plays\")"
      ]
    },
    {
      "cell_type": "markdown",
      "metadata": {
        "id": "aqLdrkVQ64TW"
      },
      "source": [
        "Delete all artists that do not have a user-specified number of plays. In other words, ask the user for the minimum play count and then remove all dictionary entries that do not meet the minimum. RULE: You must use a loop to find artists below the minimum play count in case the dictionary is ever modified.\n",
        "\n",
        "HINT: You will need two separate loops: one loop to identify those less than the minimum and another to remove each of those identified from the dictionary. This is because you can't modify a dictionary while you are iterating through it.\n",
        "\n",
        "Print the resulting dictionary after running the code using 50000 as the minimum threshold."
      ]
    },
    {
      "cell_type": "code",
      "execution_count": 10,
      "metadata": {
        "id": "-l2O0v6SneOm",
        "colab": {
          "base_uri": "https://localhost:8080/"
        },
        "outputId": "24c88d2f-39fa-4793-e164-148d060038bf"
      },
      "outputs": [
        {
          "output_type": "stream",
          "name": "stdout",
          "text": [
            "Enter the minimum play count: 50000\n",
            "Weird Al = 1234821 plays\n",
            "Ricky Martin = 600000 plays\n",
            "Juice Wrld = 38765432 plays\n",
            "Paul McCartney = 98879838 plays\n",
            "James Blunt = 974545 plays\n",
            "Bruno Mars = 85279 plays\n"
          ]
        }
      ],
      "source": [
        "# Question 5:\n",
        "\n",
        "# Original artist play counts dictionary\n",
        "artist_play_counts = {\n",
        "    'Weird Al': 1234821,\n",
        "    'Ricky Martin': 600000,\n",
        "    'Juice Wrld': 38765432,\n",
        "    'Paul McCartney': 98879838,\n",
        "    'Ne-Yo': 20000,\n",
        "    'Little River Band': 100,\n",
        "    'James Blunt': 974545,\n",
        "    'HP Boyz': 45000,\n",
        "    'Bruno Mars': 85279\n",
        "}\n",
        "\n",
        "# Ask the user for the minimum play count\n",
        "minimum_play_count = int(input(\"Enter the minimum play count: \"))\n",
        "\n",
        "# Create a list of artists with play counts below the minimum\n",
        "artists_below_minimum = []\n",
        "\n",
        "for artist, plays in artist_play_counts.items():\n",
        "    if plays < minimum_play_count:\n",
        "        artists_below_minimum.append(artist)\n",
        "\n",
        "# Iterate through the list of artists below the minimum and remove them from the dictionary\n",
        "for artist in artists_below_minimum:\n",
        "    del artist_play_counts[artist]\n",
        "\n",
        "# Print the resulting dictionary\n",
        "for artist, plays in artist_play_counts.items():\n",
        "    print(f\"{artist} = {plays} plays\")\n"
      ]
    },
    {
      "cell_type": "markdown",
      "metadata": {
        "id": "ZC_bkz2c64TW"
      },
      "source": [
        "Isaac and Grays are two listener profiles. Below is a dictionary for Isaac and a dictionary for Grays. 'fav_Artist' is the key and a list of preferred artists are the values. Also below is the all_Artists list. This is a list of all available artists. Isaac likes 'Little River Band', 'Jackson 5', 'HP Boyz', and 'Ne-Yo'. Grays likes all the other artists listed in the all_Artists list (he doesn't like the artists in Isaac's list). Use a loop to update Graysons fav_Artists (update the values to the key 'fav_Artists')\n",
        "\n",
        "HINT: You may want to use 'not in' to find Grays's preferred artists.\n",
        "\n",
        "Output Grays and Isacc's list of perferred bands."
      ]
    },
    {
      "cell_type": "code",
      "execution_count": 11,
      "metadata": {
        "id": "Bukrjr9-rpI9",
        "colab": {
          "base_uri": "https://localhost:8080/"
        },
        "outputId": "ee10a5bd-cd07-40d5-a1f5-5d4de9d5583a"
      },
      "outputs": [
        {
          "output_type": "stream",
          "name": "stdout",
          "text": [
            "Isaac's preferred artists: ['Little River Band', 'Jackson 5', 'HP Boyz', 'Ne-Yo']\n",
            "Grays's preferred artists: ['Weird Al', 'Bruno Mars', 'Ricky Martin', 'Paul McCartney', 'James Blunt', 'Michael Jackson']\n"
          ]
        }
      ],
      "source": [
        "# Question 6:\n",
        "\n",
        "# Isaac's dictionary\n",
        "isaac_prefs = {\n",
        "    'fav_Artists': ['Little River Band', 'Jackson 5', 'HP Boyz', 'Ne-Yo']\n",
        "}\n",
        "\n",
        "# Grays's dictionary\n",
        "grays_prefs = {\n",
        "    'fav_Artists': []\n",
        "}\n",
        "\n",
        "# List of all available artists\n",
        "all_Artists = ['Weird Al', 'Bruno Mars', 'Ricky Martin', 'HP Boyz', 'Jackson 5', 'Little River Band', 'Ne-Yo', 'Paul McCartney', 'James Blunt', 'Michael Jackson']\n",
        "\n",
        "# Update Grays's list of preferred artists\n",
        "for artist in all_Artists:\n",
        "    if artist not in isaac_prefs['fav_Artists']:\n",
        "        grays_prefs['fav_Artists'].append(artist)\n",
        "\n",
        "# Print Isaac's and Grays's lists of preferred bands\n",
        "print(\"Isaac's preferred artists:\", isaac_prefs['fav_Artists'])\n",
        "print(\"Grays's preferred artists:\", grays_prefs['fav_Artists'])\n"
      ]
    },
    {
      "cell_type": "markdown",
      "metadata": {
        "id": "3NEnxhe264TX"
      },
      "source": [
        "For both Issac and Grays, calculate the total artist plays (the sum of the plays of all their favorite artists).\n",
        "For example, calculate the sum of the number of plays for Little River Band, Juice Wrld, HP Boyz and Ne-Yo to find the total plays for Isaac.\n",
        "\n",
        "Make a new 'all_plays' key in the Isaac dictionary and the Grays dictionary.\n",
        "Insert the total plays of all their favorite artists as the value of the 'all_plays' key.\n",
        "\n",
        "NOTE: Before you run this block of code, run question 3 again to repopulate the artist dictionary.\n",
        "If you ran question 3, but than ran question 4 and 5, you will get an error because questions 4 and 5 make changes to the dictionary.\n",
        "Just push the 'play' button next to question 3 to run it again.\n",
        "\n",
        "Output the resulting dictionaries.\n",
        "\n",
        "According to the counts produced after creating the code for the prior question, who likes more popular music? (i.e. which profile had the most total plays?)"
      ]
    },
    {
      "cell_type": "code",
      "execution_count": 16,
      "metadata": {
        "id": "Bk8CWHb3Sc-i",
        "colab": {
          "base_uri": "https://localhost:8080/"
        },
        "outputId": "9155a6bd-c77b-4bc1-88c6-bbd18ffd606e"
      },
      "outputs": [
        {
          "output_type": "stream",
          "name": "stdout",
          "text": [
            "Isaac's dictionary:\n",
            "{'fav_Artists': ['Little River Band', 'Jackson 5', 'HP Boyz', 'Ne-Yo'], 'all_plays': 565100}\n",
            "\n",
            "Grays's dictionary:\n",
            "{'fav_Artists': ['Weird Al', 'Ricky Martin', 'Juice Wrld', 'Paul McCartney', 'Michael Jackson', 'Bruno Mars'], 'all_plays': 140565370}\n",
            "\n",
            "Grays likes more popular music.\n"
          ]
        }
      ],
      "source": [
        "# Question 7:\n",
        "\n",
        "# Artist play counts dictionary (from question 3)\n",
        "artist_play_counts = {\n",
        "    'Weird Al': 1234821,\n",
        "    'Ricky Martin': 600000,\n",
        "    'Juice Wrld': 38765432,\n",
        "    'Paul McCartney': 98879838,\n",
        "    'Ne-Yo': 20000,\n",
        "    'Little River Band': 100,\n",
        "    'Jackson 5': 500000,\n",
        "    'HP Boyz': 45000,\n",
        "    'Bruno Mars': 85279,\n",
        "    'Michael Jackson': 1000000,\n",
        "}\n",
        "\n",
        "# Isaac's dictionary\n",
        "isaac_prefs = {\n",
        "    'fav_Artists': ['Little River Band', 'Jackson 5', 'HP Boyz', 'Ne-Yo']\n",
        "}\n",
        "\n",
        "# Grays's dictionary\n",
        "grays_prefs = {\n",
        "    'fav_Artists': ['Weird Al', 'Ricky Martin', 'Juice Wrld', 'Paul McCartney', 'Michael Jackson', 'Bruno Mars']\n",
        "}\n",
        "\n",
        "# Calculate total plays for Isaac's favorite artists\n",
        "isaac_total_plays = sum(artist_play_counts.get(artist, 0) for artist in isaac_prefs['fav_Artists'])\n",
        "\n",
        "# Calculate total plays for Grays's favorite artists\n",
        "grays_total_plays = sum(artist_play_counts.get(artist, 0) for artist in grays_prefs['fav_Artists'])\n",
        "\n",
        "# Update the dictionaries with the 'all_plays' key and total plays\n",
        "isaac_prefs['all_plays'] = isaac_total_plays\n",
        "grays_prefs['all_plays'] = grays_total_plays\n",
        "\n",
        "# Print the resulting dictionaries\n",
        "print(\"Isaac's dictionary:\")\n",
        "print(isaac_prefs)\n",
        "print(\"\\nGrays's dictionary:\")\n",
        "print(grays_prefs)\n",
        "\n",
        "# Compare total plays to determine who likes more popular music\n",
        "if isaac_total_plays > grays_total_plays:\n",
        "    print(\"\\nIsaac likes more popular music.\")\n",
        "elif grays_total_plays > isaac_total_plays:\n",
        "    print(\"\\nGrays likes more popular music.\")\n",
        "else:\n",
        "    print(\"\\nIsaac and Grays like the same amount of popular music.\")"
      ]
    },
    {
      "cell_type": "code",
      "execution_count": null,
      "metadata": {
        "id": "Wpfa3xt764TX"
      },
      "outputs": [],
      "source": []
    }
  ],
  "metadata": {
    "colab": {
      "provenance": [],
      "include_colab_link": true
    },
    "kernelspec": {
      "display_name": "Python 3.9.1 64-bit",
      "language": "python",
      "name": "python3"
    },
    "language_info": {
      "codemirror_mode": {
        "name": "ipython",
        "version": 3
      },
      "file_extension": ".py",
      "mimetype": "text/x-python",
      "name": "python",
      "nbconvert_exporter": "python",
      "pygments_lexer": "ipython3",
      "version": "3.9.1"
    },
    "vscode": {
      "interpreter": {
        "hash": "11938c6bc6919ae2720b4d5011047913343b08a43b18698fd82dedb0d4417594"
      }
    }
  },
  "nbformat": 4,
  "nbformat_minor": 0
}