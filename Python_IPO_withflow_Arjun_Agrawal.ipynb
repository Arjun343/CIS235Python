{
  "cells": [
    {
      "cell_type": "markdown",
      "metadata": {
        "id": "view-in-github",
        "colab_type": "text"
      },
      "source": [
        "<a href=\"https://colab.research.google.com/github/Arjun343/CIS235Python/blob/main/Python_IPO_withflow_Arjun_Agrawal.ipynb\" target=\"_parent\"><img src=\"https://colab.research.google.com/assets/colab-badge.svg\" alt=\"Open In Colab\"/></a>"
      ]
    },
    {
      "cell_type": "markdown",
      "metadata": {
        "id": "OVVomWeZ4MX7"
      },
      "source": [
        "**READ ME FIRST:**\n",
        "\n",
        "Use the code blocks below to answer each quiz question. Use the code blocks below to answer each quiz question. IMPORTANT: Be sure that the text \"# Question 1:\", \"# Question 2:\", and so forth remains in each of your code cells. That is how the auto-grader searches for your responses\n",
        "\n",
        "Only print the output required for each question. Otherwise, the auto-grader may misinterpret your results. See the next code cell below as an an example (leave that code cell in this file):"
      ]
    },
    {
      "cell_type": "code",
      "execution_count": null,
      "metadata": {
        "id": "9cr7g-l-4MX-",
        "outputId": "6b768904-8eac-4f61-f042-5e681f73d7a9"
      },
      "outputs": [
        {
          "name": "stdout",
          "output_type": "stream",
          "text": [
            "16\n"
          ]
        }
      ],
      "source": [
        "# Question 0: (example)\n",
        "\n",
        "# Create two variables to store the numbers 7 and 9\n",
        "# Add those two variables together and print them\n",
        "\n",
        "x = 7\n",
        "y = 9\n",
        "print(x + y)"
      ]
    },
    {
      "cell_type": "markdown",
      "metadata": {
        "id": "aRrVClv04MYA"
      },
      "source": [
        "**Background**\n",
        "\n",
        "You are a Human Resources manager in charge of calculating employee pay.\n",
        "\n",
        "**Tasks**\n",
        "\n",
        "Create a basic application that calculates the the gross and net pay for three employees working at your company. You can count on there only being three and always three employees. You should collect (as inputs) each employee's name, hours worked, and hourly rate (3 variables x 3 employees = 9 variables). Also collect the tax rate which will be the same for all employees. Finally, print out a nicely formatted table that looks something like the one provided in the MyEducator assessment description.\n",
        "\n",
        "If the number of hours worked is more than 40, then the pay rate should be 1.5 times the amount entered. If the number of hours is more than 60, then the pay rate should be 1.6 times the amount entered. Find a way to use both an elif and nested if statement as you meet this criterion.\n",
        "\n",
        "**Requirements**\n",
        "\n",
        "* Use bold (\\033[1m), underline (\\033[4m), and the color red (\\033[91m) somewhere in the code\n",
        "* You do not need to write code that adds these values into a table data structure. Simply print out the headers and then print out the values one line at a time as they are added. Automatically print out the totals line once three rows of data have been entered."
      ]
    },
    {
      "cell_type": "code",
      "execution_count": 1,
      "metadata": {
        "id": "2jl6Wx2k-ILt",
        "outputId": "0f36ea34-6331-4446-e703-522b6103c207",
        "colab": {
          "base_uri": "https://localhost:8080/"
        }
      },
      "outputs": [
        {
          "output_type": "stream",
          "name": "stdout",
          "text": [
            "Enter tax rate (e.g., 0.10 for 10%): 0.1\n",
            "\n",
            "\u001b[1mEnter data for Employee 1:\u001b[0m\n",
            "Name: Arjun\n",
            "Hours worked: 10\n",
            "Hourly rate: 20\n",
            "\n",
            "\u001b[1mEnter data for Employee 2:\u001b[0m\n",
            "Name: Jay\n",
            "Hours worked: 20\n",
            "Hourly rate: 30\n",
            "\n",
            "\u001b[1mEnter data for Employee 3:\u001b[0m\n",
            "Name: David\n",
            "Hours worked: 50\n",
            "Hourly rate: 32\n",
            "\n",
            "\u001b[1mName           Hours Worked   Hourly Rate    Gross Pay      Net Pay        \u001b[0m\n",
            "\u001b[4m---------------------------------------------------------------------------\u001b[0m\n",
            "Arjun          10.00          $20.00          $200.00         $\u001b[91m180.00         \u001b[0m\n",
            "Jay            20.00          $30.00          $600.00         $\u001b[91m540.00         \u001b[0m\n",
            "David          50.00          $32.00          $2400.00        $\u001b[91m2160.00        \u001b[0m\n",
            "\u001b[4m---------------------------------------------------------------------------\u001b[0m\n",
            "\u001b[1mTotal                                        $3200.00        $\u001b[91m2880.00        \u001b[0m\n"
          ]
        }
      ],
      "source": [
        "# Question #1: Write all code needed in this cell\n",
        "\n",
        "# ANSI escape codes for text formatting\n",
        "bold = \"\\033[1m\"\n",
        "underline = \"\\033[4m\"\n",
        "red = \"\\033[91m\"\n",
        "reset = \"\\033[0m\"\n",
        "\n",
        "# Initialize variables\n",
        "employee_data = []  # List to store employee data\n",
        "tax_rate = float(input(\"Enter tax rate (e.g., 0.10 for 10%): \"))\n",
        "\n",
        "# Function to calculate gross pay\n",
        "def calculate_gross_pay(hours_worked, hourly_rate):\n",
        "    if hours_worked > 60:\n",
        "        return hours_worked * hourly_rate * 1.6\n",
        "    elif hours_worked > 40:\n",
        "        return hours_worked * hourly_rate * 1.5\n",
        "    else:\n",
        "        return hours_worked * hourly_rate\n",
        "\n",
        "# Input employee data\n",
        "for i in range(3):\n",
        "    print(f\"\\n{bold}Enter data for Employee {i + 1}:{reset}\")\n",
        "    name = input(\"Name: \")\n",
        "    hours_worked = float(input(\"Hours worked: \"))\n",
        "    hourly_rate = float(input(\"Hourly rate: \"))\n",
        "\n",
        "    gross_pay = calculate_gross_pay(hours_worked, hourly_rate)\n",
        "    net_pay = gross_pay * (1 - tax_rate)\n",
        "\n",
        "    employee_data.append([name, hours_worked, hourly_rate, gross_pay, net_pay])\n",
        "\n",
        "# Print headers\n",
        "print(f\"\\n{bold}{'Name':<15}{'Hours Worked':<15}{'Hourly Rate':<15}{'Gross Pay':<15}{'Net Pay':<15}{reset}\")\n",
        "print(f\"{underline}{'-'*75}{reset}\")\n",
        "\n",
        "# Print employee data\n",
        "for data in employee_data:\n",
        "    name, hours_worked, hourly_rate, gross_pay, net_pay = data\n",
        "    print(f\"{name:<15}{hours_worked:<15.2f}${hourly_rate:<15.2f}${gross_pay:<15.2f}${red}{net_pay:<15.2f}{reset}\")\n",
        "\n",
        "# Calculate and print totals\n",
        "total_gross_pay = sum(data[3] for data in employee_data)\n",
        "total_net_pay = sum(data[4] for data in employee_data)\n",
        "\n",
        "print(f\"{underline}{'-'*75}{reset}\")\n",
        "print(f\"{bold}{'Total':<45}${total_gross_pay:<15.2f}${red}{total_net_pay:<15.2f}{reset}\")\n",
        "\n"
      ]
    },
    {
      "cell_type": "code",
      "execution_count": null,
      "metadata": {
        "id": "5kUDOmn94MYB"
      },
      "outputs": [],
      "source": []
    }
  ],
  "metadata": {
    "celltoolbar": "Raw Cell Format",
    "colab": {
      "provenance": [],
      "include_colab_link": true
    },
    "kernelspec": {
      "display_name": "Python 3.9.1 64-bit",
      "language": "python",
      "name": "python3"
    },
    "language_info": {
      "codemirror_mode": {
        "name": "ipython",
        "version": 3
      },
      "file_extension": ".py",
      "mimetype": "text/x-python",
      "name": "python",
      "nbconvert_exporter": "python",
      "pygments_lexer": "ipython3",
      "version": "3.9.1"
    },
    "vscode": {
      "interpreter": {
        "hash": "11938c6bc6919ae2720b4d5011047913343b08a43b18698fd82dedb0d4417594"
      }
    }
  },
  "nbformat": 4,
  "nbformat_minor": 0
}